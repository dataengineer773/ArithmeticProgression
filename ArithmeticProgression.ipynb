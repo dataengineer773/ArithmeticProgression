{
 "cells": [
  {
   "cell_type": "code",
   "execution_count": 1,
   "id": "11ed08e1-f5ca-4e88-a43c-9c3389aba53a",
   "metadata": {},
   "outputs": [],
   "source": [
    "class ArithmeticProgression:\n",
    "    def __init__(self, start, step, end):\n",
    "        self.start = start\n",
    "        self.step = step\n",
    "        self.end = end\n",
    "\n",
    "    def __iter__(self):\n",
    "        current = self.start\n",
    "        while current < self.end:\n",
    "            yield current\n",
    "            current += self.step"
   ]
  },
  {
   "cell_type": "code",
   "execution_count": 2,
   "id": "4865ca05-6ca8-4c5b-aad5-2a32a0b2ba73",
   "metadata": {},
   "outputs": [],
   "source": [
    "ap = ArithmeticProgression(0, 1, 3)"
   ]
  },
  {
   "cell_type": "code",
   "execution_count": 3,
   "id": "05acef9b-d08c-4ac2-8c9c-f1eb7d8392a0",
   "metadata": {},
   "outputs": [
    {
     "data": {
      "text/plain": [
       "[0, 1, 2]"
      ]
     },
     "execution_count": 3,
     "metadata": {},
     "output_type": "execute_result"
    }
   ],
   "source": [
    "list(ap)"
   ]
  },
  {
   "cell_type": "code",
   "execution_count": 4,
   "id": "61d0259e-a8bf-402a-b9a8-a329fd5e8ec2",
   "metadata": {},
   "outputs": [],
   "source": [
    "ap = ArithmeticProgression(1, 5, 3)"
   ]
  },
  {
   "cell_type": "code",
   "execution_count": 5,
   "id": "a2aae6d4-38d0-4ea2-aa07-25eea0442a6f",
   "metadata": {},
   "outputs": [
    {
     "data": {
      "text/plain": [
       "[1]"
      ]
     },
     "execution_count": 5,
     "metadata": {},
     "output_type": "execute_result"
    }
   ],
   "source": [
    "list(ap)"
   ]
  },
  {
   "cell_type": "code",
   "execution_count": 6,
   "id": "a06e7b7b-abbd-40ed-9b40-8814ef28572c",
   "metadata": {},
   "outputs": [],
   "source": [
    "ap = ArithmeticProgression(0, 1/3, 1)"
   ]
  },
  {
   "cell_type": "code",
   "execution_count": 7,
   "id": "7e07f9ff-674e-48e3-85b2-45ed292e99c4",
   "metadata": {},
   "outputs": [
    {
     "data": {
      "text/plain": [
       "[0, 0.3333333333333333, 0.6666666666666666]"
      ]
     },
     "execution_count": 7,
     "metadata": {},
     "output_type": "execute_result"
    }
   ],
   "source": [
    "list(ap)"
   ]
  },
  {
   "cell_type": "code",
   "execution_count": 8,
   "id": "cebeb982-de4f-4159-820a-7daadf9312f7",
   "metadata": {},
   "outputs": [],
   "source": [
    "from fractions import Fraction"
   ]
  },
  {
   "cell_type": "code",
   "execution_count": 9,
   "id": "3386fa3f-daf8-49e1-9096-e1979a92fa68",
   "metadata": {},
   "outputs": [],
   "source": [
    "ap = ArithmeticProgression(0, Fraction(1, 3), 1)"
   ]
  },
  {
   "cell_type": "code",
   "execution_count": 10,
   "id": "bf99d04a-d7a6-4fd0-9cd9-99f873f5fc76",
   "metadata": {},
   "outputs": [
    {
     "data": {
      "text/plain": [
       "[0, Fraction(1, 3), Fraction(2, 3)]"
      ]
     },
     "execution_count": 10,
     "metadata": {},
     "output_type": "execute_result"
    }
   ],
   "source": [
    "list(ap)"
   ]
  },
  {
   "cell_type": "code",
   "execution_count": 11,
   "id": "a5d12ed0-f4ee-4703-96ca-5b37372ad916",
   "metadata": {},
   "outputs": [],
   "source": [
    "from decimal import Decimal"
   ]
  },
  {
   "cell_type": "code",
   "execution_count": 12,
   "id": "9c4fa5cd-8b3e-43a2-8a86-6a3dabb87d2f",
   "metadata": {},
   "outputs": [],
   "source": [
    "ap = ArithmeticProgression(0, Decimal('.1'), 3)"
   ]
  },
  {
   "cell_type": "code",
   "execution_count": 13,
   "id": "af3aaba8-df2f-4d94-826f-a0c91e2fec93",
   "metadata": {},
   "outputs": [
    {
     "data": {
      "text/plain": [
       "[0,\n",
       " Decimal('0.1'),\n",
       " Decimal('0.2'),\n",
       " Decimal('0.3'),\n",
       " Decimal('0.4'),\n",
       " Decimal('0.5'),\n",
       " Decimal('0.6'),\n",
       " Decimal('0.7'),\n",
       " Decimal('0.8'),\n",
       " Decimal('0.9'),\n",
       " Decimal('1.0'),\n",
       " Decimal('1.1'),\n",
       " Decimal('1.2'),\n",
       " Decimal('1.3'),\n",
       " Decimal('1.4'),\n",
       " Decimal('1.5'),\n",
       " Decimal('1.6'),\n",
       " Decimal('1.7'),\n",
       " Decimal('1.8'),\n",
       " Decimal('1.9'),\n",
       " Decimal('2.0'),\n",
       " Decimal('2.1'),\n",
       " Decimal('2.2'),\n",
       " Decimal('2.3'),\n",
       " Decimal('2.4'),\n",
       " Decimal('2.5'),\n",
       " Decimal('2.6'),\n",
       " Decimal('2.7'),\n",
       " Decimal('2.8'),\n",
       " Decimal('2.9')]"
      ]
     },
     "execution_count": 13,
     "metadata": {},
     "output_type": "execute_result"
    }
   ],
   "source": [
    "list(ap)"
   ]
  },
  {
   "cell_type": "code",
   "execution_count": null,
   "id": "f5a0b1a7-d6cd-4410-b309-d3760851b989",
   "metadata": {},
   "outputs": [],
   "source": []
  }
 ],
 "metadata": {
  "kernelspec": {
   "display_name": "Python 3 (ipykernel)",
   "language": "python",
   "name": "python3"
  },
  "language_info": {
   "codemirror_mode": {
    "name": "ipython",
    "version": 3
   },
   "file_extension": ".py",
   "mimetype": "text/x-python",
   "name": "python",
   "nbconvert_exporter": "python",
   "pygments_lexer": "ipython3",
   "version": "3.12.3"
  }
 },
 "nbformat": 4,
 "nbformat_minor": 5
}
